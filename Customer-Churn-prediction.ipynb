{
 "cells": [
  {
   "cell_type": "markdown",
   "id": "52b73a94",
   "metadata": {},
   "source": [
    "# CUSTOMER CHURN PREDICTION"
   ]
  },
  {
   "cell_type": "code",
   "execution_count": null,
   "id": "1fe071f3",
   "metadata": {},
   "outputs": [],
   "source": []
  },
  {
   "cell_type": "code",
   "execution_count": 1,
   "id": "c7f53a22",
   "metadata": {},
   "outputs": [],
   "source": [
    "import numpy as np\n",
    "import pandas as pd\n",
    "import seaborn as sns\n",
    "import matplotlib.pyplot as plt\n",
    "%matplotlib inline"
   ]
  },
  {
   "cell_type": "code",
   "execution_count": 2,
   "id": "93132697",
   "metadata": {},
   "outputs": [],
   "source": [
    "from sklearn.metrics import roc_auc_score, accuracy_score, f1_score, confusion_matrix, classification_report\n",
    "from sklearn.preprocessing import StandardScaler, LabelEncoder\n",
    "from sklearn.model_selection import train_test_split\n",
    "from sklearn.model_selection import cross_val_score\n",
    "from sklearn.model_selection import GridSearchCV\n",
    "from sklearn.svm import SVC\n",
    "from sklearn.linear_model import LogisticRegression\n",
    "from sklearn.linear_model import RidgeClassifier\n",
    "from sklearn.ensemble import AdaBoostClassifier\n",
    "from sklearn.svm import LinearSVC"
   ]
  },
  {
   "cell_type": "code",
   "execution_count": 3,
   "id": "960a1a09",
   "metadata": {},
   "outputs": [],
   "source": [
    "df = pd.read_excel('customer_churn_large_dataset.xlsx')"
   ]
  },
  {
   "cell_type": "code",
   "execution_count": 4,
   "id": "c58b5dfc",
   "metadata": {},
   "outputs": [
    {
     "data": {
      "text/html": [
       "<div>\n",
       "<style scoped>\n",
       "    .dataframe tbody tr th:only-of-type {\n",
       "        vertical-align: middle;\n",
       "    }\n",
       "\n",
       "    .dataframe tbody tr th {\n",
       "        vertical-align: top;\n",
       "    }\n",
       "\n",
       "    .dataframe thead th {\n",
       "        text-align: right;\n",
       "    }\n",
       "</style>\n",
       "<table border=\"1\" class=\"dataframe\">\n",
       "  <thead>\n",
       "    <tr style=\"text-align: right;\">\n",
       "      <th></th>\n",
       "      <th>CustomerID</th>\n",
       "      <th>Name</th>\n",
       "      <th>Age</th>\n",
       "      <th>Gender</th>\n",
       "      <th>Location</th>\n",
       "      <th>Subscription_Length_Months</th>\n",
       "      <th>Monthly_Bill</th>\n",
       "      <th>Total_Usage_GB</th>\n",
       "      <th>Churn</th>\n",
       "    </tr>\n",
       "  </thead>\n",
       "  <tbody>\n",
       "    <tr>\n",
       "      <th>0</th>\n",
       "      <td>1</td>\n",
       "      <td>Customer_1</td>\n",
       "      <td>63</td>\n",
       "      <td>Male</td>\n",
       "      <td>Los Angeles</td>\n",
       "      <td>17</td>\n",
       "      <td>73.36</td>\n",
       "      <td>236</td>\n",
       "      <td>0</td>\n",
       "    </tr>\n",
       "    <tr>\n",
       "      <th>1</th>\n",
       "      <td>2</td>\n",
       "      <td>Customer_2</td>\n",
       "      <td>62</td>\n",
       "      <td>Female</td>\n",
       "      <td>New York</td>\n",
       "      <td>1</td>\n",
       "      <td>48.76</td>\n",
       "      <td>172</td>\n",
       "      <td>0</td>\n",
       "    </tr>\n",
       "    <tr>\n",
       "      <th>2</th>\n",
       "      <td>3</td>\n",
       "      <td>Customer_3</td>\n",
       "      <td>24</td>\n",
       "      <td>Female</td>\n",
       "      <td>Los Angeles</td>\n",
       "      <td>5</td>\n",
       "      <td>85.47</td>\n",
       "      <td>460</td>\n",
       "      <td>0</td>\n",
       "    </tr>\n",
       "    <tr>\n",
       "      <th>3</th>\n",
       "      <td>4</td>\n",
       "      <td>Customer_4</td>\n",
       "      <td>36</td>\n",
       "      <td>Female</td>\n",
       "      <td>Miami</td>\n",
       "      <td>3</td>\n",
       "      <td>97.94</td>\n",
       "      <td>297</td>\n",
       "      <td>1</td>\n",
       "    </tr>\n",
       "    <tr>\n",
       "      <th>4</th>\n",
       "      <td>5</td>\n",
       "      <td>Customer_5</td>\n",
       "      <td>46</td>\n",
       "      <td>Female</td>\n",
       "      <td>Miami</td>\n",
       "      <td>19</td>\n",
       "      <td>58.14</td>\n",
       "      <td>266</td>\n",
       "      <td>0</td>\n",
       "    </tr>\n",
       "  </tbody>\n",
       "</table>\n",
       "</div>"
      ],
      "text/plain": [
       "   CustomerID        Name  Age  Gender     Location  \\\n",
       "0           1  Customer_1   63    Male  Los Angeles   \n",
       "1           2  Customer_2   62  Female     New York   \n",
       "2           3  Customer_3   24  Female  Los Angeles   \n",
       "3           4  Customer_4   36  Female        Miami   \n",
       "4           5  Customer_5   46  Female        Miami   \n",
       "\n",
       "   Subscription_Length_Months  Monthly_Bill  Total_Usage_GB  Churn  \n",
       "0                          17         73.36             236      0  \n",
       "1                           1         48.76             172      0  \n",
       "2                           5         85.47             460      0  \n",
       "3                           3         97.94             297      1  \n",
       "4                          19         58.14             266      0  "
      ]
     },
     "execution_count": 4,
     "metadata": {},
     "output_type": "execute_result"
    }
   ],
   "source": [
    "df.head()"
   ]
  },
  {
   "cell_type": "code",
   "execution_count": 5,
   "id": "33a055fb",
   "metadata": {},
   "outputs": [
    {
     "data": {
      "text/plain": [
       "(100000, 9)"
      ]
     },
     "execution_count": 5,
     "metadata": {},
     "output_type": "execute_result"
    }
   ],
   "source": [
    "df.shape"
   ]
  },
  {
   "cell_type": "code",
   "execution_count": 6,
   "id": "86b73ae0",
   "metadata": {},
   "outputs": [
    {
     "data": {
      "text/plain": [
       "0"
      ]
     },
     "execution_count": 6,
     "metadata": {},
     "output_type": "execute_result"
    }
   ],
   "source": [
    "df.duplicated().sum()"
   ]
  },
  {
   "cell_type": "code",
   "execution_count": 7,
   "id": "2b7d5301",
   "metadata": {},
   "outputs": [
    {
     "name": "stdout",
     "output_type": "stream",
     "text": [
      "['Los Angeles' 'New York' 'Miami' 'Chicago' 'Houston']\n",
      "['Male' 'Female']\n"
     ]
    }
   ],
   "source": [
    "#checking unique values of categorical features\n",
    "print(df['Location'].unique())\n",
    "print(df['Gender'].unique())"
   ]
  },
  {
   "cell_type": "code",
   "execution_count": 8,
   "id": "bfb550a4",
   "metadata": {},
   "outputs": [
    {
     "data": {
      "text/plain": [
       "CustomerID                    0\n",
       "Name                          0\n",
       "Age                           0\n",
       "Gender                        0\n",
       "Location                      0\n",
       "Subscription_Length_Months    0\n",
       "Monthly_Bill                  0\n",
       "Total_Usage_GB                0\n",
       "Churn                         0\n",
       "dtype: int64"
      ]
     },
     "execution_count": 8,
     "metadata": {},
     "output_type": "execute_result"
    }
   ],
   "source": [
    "# checking missing values\n",
    "df.isnull().sum()"
   ]
  },
  {
   "cell_type": "code",
   "execution_count": 9,
   "id": "b633dd58",
   "metadata": {},
   "outputs": [
    {
     "data": {
      "text/html": [
       "<div>\n",
       "<style scoped>\n",
       "    .dataframe tbody tr th:only-of-type {\n",
       "        vertical-align: middle;\n",
       "    }\n",
       "\n",
       "    .dataframe tbody tr th {\n",
       "        vertical-align: top;\n",
       "    }\n",
       "\n",
       "    .dataframe thead th {\n",
       "        text-align: right;\n",
       "    }\n",
       "</style>\n",
       "<table border=\"1\" class=\"dataframe\">\n",
       "  <thead>\n",
       "    <tr style=\"text-align: right;\">\n",
       "      <th></th>\n",
       "      <th>CustomerID</th>\n",
       "      <th>Age</th>\n",
       "      <th>Subscription_Length_Months</th>\n",
       "      <th>Monthly_Bill</th>\n",
       "      <th>Total_Usage_GB</th>\n",
       "      <th>Churn</th>\n",
       "    </tr>\n",
       "  </thead>\n",
       "  <tbody>\n",
       "    <tr>\n",
       "      <th>count</th>\n",
       "      <td>100000.000000</td>\n",
       "      <td>100000.000000</td>\n",
       "      <td>100000.000000</td>\n",
       "      <td>100000.000000</td>\n",
       "      <td>100000.000000</td>\n",
       "      <td>100000.000000</td>\n",
       "    </tr>\n",
       "    <tr>\n",
       "      <th>mean</th>\n",
       "      <td>50000.500000</td>\n",
       "      <td>44.027020</td>\n",
       "      <td>12.490100</td>\n",
       "      <td>65.053197</td>\n",
       "      <td>274.393650</td>\n",
       "      <td>0.497790</td>\n",
       "    </tr>\n",
       "    <tr>\n",
       "      <th>std</th>\n",
       "      <td>28867.657797</td>\n",
       "      <td>15.280283</td>\n",
       "      <td>6.926461</td>\n",
       "      <td>20.230696</td>\n",
       "      <td>130.463063</td>\n",
       "      <td>0.499998</td>\n",
       "    </tr>\n",
       "    <tr>\n",
       "      <th>min</th>\n",
       "      <td>1.000000</td>\n",
       "      <td>18.000000</td>\n",
       "      <td>1.000000</td>\n",
       "      <td>30.000000</td>\n",
       "      <td>50.000000</td>\n",
       "      <td>0.000000</td>\n",
       "    </tr>\n",
       "    <tr>\n",
       "      <th>25%</th>\n",
       "      <td>25000.750000</td>\n",
       "      <td>31.000000</td>\n",
       "      <td>6.000000</td>\n",
       "      <td>47.540000</td>\n",
       "      <td>161.000000</td>\n",
       "      <td>0.000000</td>\n",
       "    </tr>\n",
       "    <tr>\n",
       "      <th>50%</th>\n",
       "      <td>50000.500000</td>\n",
       "      <td>44.000000</td>\n",
       "      <td>12.000000</td>\n",
       "      <td>65.010000</td>\n",
       "      <td>274.000000</td>\n",
       "      <td>0.000000</td>\n",
       "    </tr>\n",
       "    <tr>\n",
       "      <th>75%</th>\n",
       "      <td>75000.250000</td>\n",
       "      <td>57.000000</td>\n",
       "      <td>19.000000</td>\n",
       "      <td>82.640000</td>\n",
       "      <td>387.000000</td>\n",
       "      <td>1.000000</td>\n",
       "    </tr>\n",
       "    <tr>\n",
       "      <th>max</th>\n",
       "      <td>100000.000000</td>\n",
       "      <td>70.000000</td>\n",
       "      <td>24.000000</td>\n",
       "      <td>100.000000</td>\n",
       "      <td>500.000000</td>\n",
       "      <td>1.000000</td>\n",
       "    </tr>\n",
       "  </tbody>\n",
       "</table>\n",
       "</div>"
      ],
      "text/plain": [
       "          CustomerID            Age  Subscription_Length_Months  \\\n",
       "count  100000.000000  100000.000000               100000.000000   \n",
       "mean    50000.500000      44.027020                   12.490100   \n",
       "std     28867.657797      15.280283                    6.926461   \n",
       "min         1.000000      18.000000                    1.000000   \n",
       "25%     25000.750000      31.000000                    6.000000   \n",
       "50%     50000.500000      44.000000                   12.000000   \n",
       "75%     75000.250000      57.000000                   19.000000   \n",
       "max    100000.000000      70.000000                   24.000000   \n",
       "\n",
       "        Monthly_Bill  Total_Usage_GB          Churn  \n",
       "count  100000.000000   100000.000000  100000.000000  \n",
       "mean       65.053197      274.393650       0.497790  \n",
       "std        20.230696      130.463063       0.499998  \n",
       "min        30.000000       50.000000       0.000000  \n",
       "25%        47.540000      161.000000       0.000000  \n",
       "50%        65.010000      274.000000       0.000000  \n",
       "75%        82.640000      387.000000       1.000000  \n",
       "max       100.000000      500.000000       1.000000  "
      ]
     },
     "execution_count": 9,
     "metadata": {},
     "output_type": "execute_result"
    }
   ],
   "source": [
    "df.describe()"
   ]
  },
  {
   "cell_type": "code",
   "execution_count": 10,
   "id": "7063ea8c",
   "metadata": {},
   "outputs": [
    {
     "data": {
      "text/plain": [
       "Houston        20157\n",
       "Los Angeles    20041\n",
       "Miami          20031\n",
       "Chicago        19958\n",
       "New York       19813\n",
       "Name: Location, dtype: int64"
      ]
     },
     "execution_count": 10,
     "metadata": {},
     "output_type": "execute_result"
    }
   ],
   "source": [
    "df.Location.value_counts()"
   ]
  },
  {
   "cell_type": "code",
   "execution_count": 11,
   "id": "a352d718",
   "metadata": {},
   "outputs": [
    {
     "data": {
      "text/plain": [
       "Female    50216\n",
       "Male      49784\n",
       "Name: Gender, dtype: int64"
      ]
     },
     "execution_count": 11,
     "metadata": {},
     "output_type": "execute_result"
    }
   ],
   "source": [
    "df.Gender.value_counts()"
   ]
  },
  {
   "cell_type": "code",
   "execution_count": 12,
   "id": "94024276",
   "metadata": {},
   "outputs": [
    {
     "data": {
      "text/plain": [
       "0    50221\n",
       "1    49779\n",
       "Name: Churn, dtype: int64"
      ]
     },
     "execution_count": 12,
     "metadata": {},
     "output_type": "execute_result"
    }
   ],
   "source": [
    "df.Churn.value_counts()"
   ]
  },
  {
   "cell_type": "code",
   "execution_count": 13,
   "id": "ccd766c3",
   "metadata": {},
   "outputs": [
    {
     "data": {
      "image/png": "[encoded data removed]",
      "text/plain": [
       "<Figure size 640x480 with 1 Axes>"
      ]
     },
     "metadata": {},
     "output_type": "display_data"
    }
   ],
   "source": [
    "sns.barplot(x = 'Churn',y = 'Location',data = df)\n",
    "plt.show()"
   ]
  },
  {
   "cell_type": "code",
   "execution_count": 14,
   "id": "02084378",
   "metadata": {},
   "outputs": [],
   "source": [
    "data = df[['Age','Gender','Location','Subscription_Length_Months','Monthly_Bill','Total_Usage_GB','Churn']]"
   ]
  },
  {
   "cell_type": "code",
   "execution_count": 15,
   "id": "cd491d11",
   "metadata": {},
   "outputs": [
    {
     "data": {
      "text/html": [
       "<div>\n",
       "<style scoped>\n",
       "    .dataframe tbody tr th:only-of-type {\n",
       "        vertical-align: middle;\n",
       "    }\n",
       "\n",
       "    .dataframe tbody tr th {\n",
       "        vertical-align: top;\n",
       "    }\n",
       "\n",
       "    .dataframe thead th {\n",
       "        text-align: right;\n",
       "    }\n",
       "</style>\n",
       "<table border=\"1\" class=\"dataframe\">\n",
       "  <thead>\n",
       "    <tr style=\"text-align: right;\">\n",
       "      <th></th>\n",
       "      <th>Age</th>\n",
       "      <th>Gender</th>\n",
       "      <th>Location</th>\n",
       "      <th>Subscription_Length_Months</th>\n",
       "      <th>Monthly_Bill</th>\n",
       "      <th>Total_Usage_GB</th>\n",
       "      <th>Churn</th>\n",
       "    </tr>\n",
       "  </thead>\n",
       "  <tbody>\n",
       "    <tr>\n",
       "      <th>0</th>\n",
       "      <td>63</td>\n",
       "      <td>Male</td>\n",
       "      <td>Los Angeles</td>\n",
       "      <td>17</td>\n",
       "      <td>73.36</td>\n",
       "      <td>236</td>\n",
       "      <td>0</td>\n",
       "    </tr>\n",
       "    <tr>\n",
       "      <th>1</th>\n",
       "      <td>62</td>\n",
       "      <td>Female</td>\n",
       "      <td>New York</td>\n",
       "      <td>1</td>\n",
       "      <td>48.76</td>\n",
       "      <td>172</td>\n",
       "      <td>0</td>\n",
       "    </tr>\n",
       "    <tr>\n",
       "      <th>2</th>\n",
       "      <td>24</td>\n",
       "      <td>Female</td>\n",
       "      <td>Los Angeles</td>\n",
       "      <td>5</td>\n",
       "      <td>85.47</td>\n",
       "      <td>460</td>\n",
       "      <td>0</td>\n",
       "    </tr>\n",
       "    <tr>\n",
       "      <th>3</th>\n",
       "      <td>36</td>\n",
       "      <td>Female</td>\n",
       "      <td>Miami</td>\n",
       "      <td>3</td>\n",
       "      <td>97.94</td>\n",
       "      <td>297</td>\n",
       "      <td>1</td>\n",
       "    </tr>\n",
       "    <tr>\n",
       "      <th>4</th>\n",
       "      <td>46</td>\n",
       "      <td>Female</td>\n",
       "      <td>Miami</td>\n",
       "      <td>19</td>\n",
       "      <td>58.14</td>\n",
       "      <td>266</td>\n",
       "      <td>0</td>\n",
       "    </tr>\n",
       "  </tbody>\n",
       "</table>\n",
       "</div>"
      ],
      "text/plain": [
       "   Age  Gender     Location  Subscription_Length_Months  Monthly_Bill  \\\n",
       "0   63    Male  Los Angeles                          17         73.36   \n",
       "1   62  Female     New York                           1         48.76   \n",
       "2   24  Female  Los Angeles                           5         85.47   \n",
       "3   36  Female        Miami                           3         97.94   \n",
       "4   46  Female        Miami                          19         58.14   \n",
       "\n",
       "   Total_Usage_GB  Churn  \n",
       "0             236      0  \n",
       "1             172      0  \n",
       "2             460      0  \n",
       "3             297      1  \n",
       "4             266      0  "
      ]
     },
     "execution_count": 15,
     "metadata": {},
     "output_type": "execute_result"
    }
   ],
   "source": [
    "data.head()"
   ]
  },
  {
   "cell_type": "code",
   "execution_count": 16,
   "id": "93d97cbf",
   "metadata": {},
   "outputs": [],
   "source": [
    "#converting categorical features into dummy variables"
   ]
  },
  {
   "cell_type": "code",
   "execution_count": 17,
   "id": "9ef5b2e6",
   "metadata": {},
   "outputs": [],
   "source": [
    "data = pd.get_dummies(data, drop_first=True)"
   ]
  },
  {
   "cell_type": "code",
   "execution_count": 18,
   "id": "88e4af7f",
   "metadata": {},
   "outputs": [
    {
     "data": {
      "text/html": [
       "<div>\n",
       "<style scoped>\n",
       "    .dataframe tbody tr th:only-of-type {\n",
       "        vertical-align: middle;\n",
       "    }\n",
       "\n",
       "    .dataframe tbody tr th {\n",
       "        vertical-align: top;\n",
       "    }\n",
       "\n",
       "    .dataframe thead th {\n",
       "        text-align: right;\n",
       "    }\n",
       "</style>\n",
       "<table border=\"1\" class=\"dataframe\">\n",
       "  <thead>\n",
       "    <tr style=\"text-align: right;\">\n",
       "      <th></th>\n",
       "      <th>Age</th>\n",
       "      <th>Subscription_Length_Months</th>\n",
       "      <th>Monthly_Bill</th>\n",
       "      <th>Total_Usage_GB</th>\n",
       "      <th>Churn</th>\n",
       "      <th>Gender_Male</th>\n",
       "      <th>Location_Houston</th>\n",
       "      <th>Location_Los Angeles</th>\n",
       "      <th>Location_Miami</th>\n",
       "      <th>Location_New York</th>\n",
       "    </tr>\n",
       "  </thead>\n",
       "  <tbody>\n",
       "    <tr>\n",
       "      <th>0</th>\n",
       "      <td>63</td>\n",
       "      <td>17</td>\n",
       "      <td>73.36</td>\n",
       "      <td>236</td>\n",
       "      <td>0</td>\n",
       "      <td>1</td>\n",
       "      <td>0</td>\n",
       "      <td>1</td>\n",
       "      <td>0</td>\n",
       "      <td>0</td>\n",
       "    </tr>\n",
       "    <tr>\n",
       "      <th>1</th>\n",
       "      <td>62</td>\n",
       "      <td>1</td>\n",
       "      <td>48.76</td>\n",
       "      <td>172</td>\n",
       "      <td>0</td>\n",
       "      <td>0</td>\n",
       "      <td>0</td>\n",
       "      <td>0</td>\n",
       "      <td>0</td>\n",
       "      <td>1</td>\n",
       "    </tr>\n",
       "    <tr>\n",
       "      <th>2</th>\n",
       "      <td>24</td>\n",
       "      <td>5</td>\n",
       "      <td>85.47</td>\n",
       "      <td>460</td>\n",
       "      <td>0</td>\n",
       "      <td>0</td>\n",
       "      <td>0</td>\n",
       "      <td>1</td>\n",
       "      <td>0</td>\n",
       "      <td>0</td>\n",
       "    </tr>\n",
       "    <tr>\n",
       "      <th>3</th>\n",
       "      <td>36</td>\n",
       "      <td>3</td>\n",
       "      <td>97.94</td>\n",
       "      <td>297</td>\n",
       "      <td>1</td>\n",
       "      <td>0</td>\n",
       "      <td>0</td>\n",
       "      <td>0</td>\n",
       "      <td>1</td>\n",
       "      <td>0</td>\n",
       "    </tr>\n",
       "    <tr>\n",
       "      <th>4</th>\n",
       "      <td>46</td>\n",
       "      <td>19</td>\n",
       "      <td>58.14</td>\n",
       "      <td>266</td>\n",
       "      <td>0</td>\n",
       "      <td>0</td>\n",
       "      <td>0</td>\n",
       "      <td>0</td>\n",
       "      <td>1</td>\n",
       "      <td>0</td>\n",
       "    </tr>\n",
       "  </tbody>\n",
       "</table>\n",
       "</div>"
      ],
      "text/plain": [
       "   Age  Subscription_Length_Months  Monthly_Bill  Total_Usage_GB  Churn  \\\n",
       "0   63                          17         73.36             236      0   \n",
       "1   62                           1         48.76             172      0   \n",
       "2   24                           5         85.47             460      0   \n",
       "3   36                           3         97.94             297      1   \n",
       "4   46                          19         58.14             266      0   \n",
       "\n",
       "   Gender_Male  Location_Houston  Location_Los Angeles  Location_Miami  \\\n",
       "0            1                 0                     1               0   \n",
       "1            0                 0                     0               0   \n",
       "2            0                 0                     1               0   \n",
       "3            0                 0                     0               1   \n",
       "4            0                 0                     0               1   \n",
       "\n",
       "   Location_New York  \n",
       "0                  0  \n",
       "1                  1  \n",
       "2                  0  \n",
       "3                  0  \n",
       "4                  0  "
      ]
     },
     "execution_count": 18,
     "metadata": {},
     "output_type": "execute_result"
    }
   ],
   "source": [
    "data.head()"
   ]
  },
  {
   "cell_type": "code",
   "execution_count": 19,
   "id": "e6d586f7",
   "metadata": {},
   "outputs": [
    {
     "data": {
      "text/html": [
       "<div>\n",
       "<style scoped>\n",
       "    .dataframe tbody tr th:only-of-type {\n",
       "        vertical-align: middle;\n",
       "    }\n",
       "\n",
       "    .dataframe tbody tr th {\n",
       "        vertical-align: top;\n",
       "    }\n",
       "\n",
       "    .dataframe thead th {\n",
       "        text-align: right;\n",
       "    }\n",
       "</style>\n",
       "<table border=\"1\" class=\"dataframe\">\n",
       "  <thead>\n",
       "    <tr style=\"text-align: right;\">\n",
       "      <th></th>\n",
       "      <th>Age</th>\n",
       "      <th>Subscription_Length_Months</th>\n",
       "      <th>Monthly_Bill</th>\n",
       "      <th>Total_Usage_GB</th>\n",
       "      <th>Churn</th>\n",
       "      <th>Gender_Male</th>\n",
       "      <th>Location_Houston</th>\n",
       "      <th>Location_Los Angeles</th>\n",
       "      <th>Location_Miami</th>\n",
       "      <th>Location_New York</th>\n",
       "    </tr>\n",
       "  </thead>\n",
       "  <tbody>\n",
       "    <tr>\n",
       "      <th>Age</th>\n",
       "      <td>1.000000</td>\n",
       "      <td>0.003382</td>\n",
       "      <td>0.001110</td>\n",
       "      <td>0.001927</td>\n",
       "      <td>0.001559</td>\n",
       "      <td>0.000832</td>\n",
       "      <td>0.001795</td>\n",
       "      <td>-0.004971</td>\n",
       "      <td>0.001079</td>\n",
       "      <td>-0.003982</td>\n",
       "    </tr>\n",
       "    <tr>\n",
       "      <th>Subscription_Length_Months</th>\n",
       "      <td>0.003382</td>\n",
       "      <td>1.000000</td>\n",
       "      <td>-0.005294</td>\n",
       "      <td>-0.002203</td>\n",
       "      <td>0.002328</td>\n",
       "      <td>0.000320</td>\n",
       "      <td>-0.001842</td>\n",
       "      <td>-0.001234</td>\n",
       "      <td>0.005508</td>\n",
       "      <td>-0.004630</td>\n",
       "    </tr>\n",
       "    <tr>\n",
       "      <th>Monthly_Bill</th>\n",
       "      <td>0.001110</td>\n",
       "      <td>-0.005294</td>\n",
       "      <td>1.000000</td>\n",
       "      <td>0.003187</td>\n",
       "      <td>-0.000211</td>\n",
       "      <td>0.002239</td>\n",
       "      <td>0.001856</td>\n",
       "      <td>0.003444</td>\n",
       "      <td>-0.002521</td>\n",
       "      <td>0.002992</td>\n",
       "    </tr>\n",
       "    <tr>\n",
       "      <th>Total_Usage_GB</th>\n",
       "      <td>0.001927</td>\n",
       "      <td>-0.002203</td>\n",
       "      <td>0.003187</td>\n",
       "      <td>1.000000</td>\n",
       "      <td>-0.002842</td>\n",
       "      <td>-0.001385</td>\n",
       "      <td>-0.002137</td>\n",
       "      <td>-0.001562</td>\n",
       "      <td>0.001320</td>\n",
       "      <td>0.002837</td>\n",
       "    </tr>\n",
       "    <tr>\n",
       "      <th>Churn</th>\n",
       "      <td>0.001559</td>\n",
       "      <td>0.002328</td>\n",
       "      <td>-0.000211</td>\n",
       "      <td>-0.002842</td>\n",
       "      <td>1.000000</td>\n",
       "      <td>0.002121</td>\n",
       "      <td>-0.006728</td>\n",
       "      <td>-0.004807</td>\n",
       "      <td>0.005235</td>\n",
       "      <td>0.005835</td>\n",
       "    </tr>\n",
       "    <tr>\n",
       "      <th>Gender_Male</th>\n",
       "      <td>0.000832</td>\n",
       "      <td>0.000320</td>\n",
       "      <td>0.002239</td>\n",
       "      <td>-0.001385</td>\n",
       "      <td>0.002121</td>\n",
       "      <td>1.000000</td>\n",
       "      <td>0.006234</td>\n",
       "      <td>-0.001360</td>\n",
       "      <td>-0.001561</td>\n",
       "      <td>-0.002645</td>\n",
       "    </tr>\n",
       "    <tr>\n",
       "      <th>Location_Houston</th>\n",
       "      <td>0.001795</td>\n",
       "      <td>-0.001842</td>\n",
       "      <td>0.001856</td>\n",
       "      <td>-0.002137</td>\n",
       "      <td>-0.006728</td>\n",
       "      <td>0.006234</td>\n",
       "      <td>1.000000</td>\n",
       "      <td>-0.251548</td>\n",
       "      <td>-0.251469</td>\n",
       "      <td>-0.249757</td>\n",
       "    </tr>\n",
       "    <tr>\n",
       "      <th>Location_Los Angeles</th>\n",
       "      <td>-0.004971</td>\n",
       "      <td>-0.001234</td>\n",
       "      <td>0.003444</td>\n",
       "      <td>-0.001562</td>\n",
       "      <td>-0.004807</td>\n",
       "      <td>-0.001360</td>\n",
       "      <td>-0.251548</td>\n",
       "      <td>1.000000</td>\n",
       "      <td>-0.250563</td>\n",
       "      <td>-0.248857</td>\n",
       "    </tr>\n",
       "    <tr>\n",
       "      <th>Location_Miami</th>\n",
       "      <td>0.001079</td>\n",
       "      <td>0.005508</td>\n",
       "      <td>-0.002521</td>\n",
       "      <td>0.001320</td>\n",
       "      <td>0.005235</td>\n",
       "      <td>-0.001561</td>\n",
       "      <td>-0.251469</td>\n",
       "      <td>-0.250563</td>\n",
       "      <td>1.000000</td>\n",
       "      <td>-0.248779</td>\n",
       "    </tr>\n",
       "    <tr>\n",
       "      <th>Location_New York</th>\n",
       "      <td>-0.003982</td>\n",
       "      <td>-0.004630</td>\n",
       "      <td>0.002992</td>\n",
       "      <td>0.002837</td>\n",
       "      <td>0.005835</td>\n",
       "      <td>-0.002645</td>\n",
       "      <td>-0.249757</td>\n",
       "      <td>-0.248857</td>\n",
       "      <td>-0.248779</td>\n",
       "      <td>1.000000</td>\n",
       "    </tr>\n",
       "  </tbody>\n",
       "</table>\n",
       "</div>"
      ],
      "text/plain": [
       "                                 Age  Subscription_Length_Months  \\\n",
       "Age                         1.000000                    0.003382   \n",
       "Subscription_Length_Months  0.003382                    1.000000   \n",
       "Monthly_Bill                0.001110                   -0.005294   \n",
       "Total_Usage_GB              0.001927                   -0.002203   \n",
       "Churn                       0.001559                    0.002328   \n",
       "Gender_Male                 0.000832                    0.000320   \n",
       "Location_Houston            0.001795                   -0.001842   \n",
       "Location_Los Angeles       -0.004971                   -0.001234   \n",
       "Location_Miami              0.001079                    0.005508   \n",
       "Location_New York          -0.003982                   -0.004630   \n",
       "\n",
       "                            Monthly_Bill  Total_Usage_GB     Churn  \\\n",
       "Age                             0.001110        0.001927  0.001559   \n",
       "Subscription_Length_Months     -0.005294       -0.002203  0.002328   \n",
       "Monthly_Bill                    1.000000        0.003187 -0.000211   \n",
       "Total_Usage_GB                  0.003187        1.000000 -0.002842   \n",
       "Churn                          -0.000211       -0.002842  1.000000   \n",
       "Gender_Male                     0.002239       -0.001385  0.002121   \n",
       "Location_Houston                0.001856       -0.002137 -0.006728   \n",
       "Location_Los Angeles            0.003444       -0.001562 -0.004807   \n",
       "Location_Miami                 -0.002521        0.001320  0.005235   \n",
       "Location_New York               0.002992        0.002837  0.005835   \n",
       "\n",
       "                            Gender_Male  Location_Houston  \\\n",
       "Age                            0.000832          0.001795   \n",
       "Subscription_Length_Months     0.000320         -0.001842   \n",
       "Monthly_Bill                   0.002239          0.001856   \n",
       "Total_Usage_GB                -0.001385         -0.002137   \n",
       "Churn                          0.002121         -0.006728   \n",
       "Gender_Male                    1.000000          0.006234   \n",
       "Location_Houston               0.006234          1.000000   \n",
       "Location_Los Angeles          -0.001360         -0.251548   \n",
       "Location_Miami                -0.001561         -0.251469   \n",
       "Location_New York             -0.002645         -0.249757   \n",
       "\n",
       "                            Location_Los Angeles  Location_Miami  \\\n",
       "Age                                    -0.004971        0.001079   \n",
       "Subscription_Length_Months             -0.001234        0.005508   \n",
       "Monthly_Bill                            0.003444       -0.002521   \n",
       "Total_Usage_GB                         -0.001562        0.001320   \n",
       "Churn                                  -0.004807        0.005235   \n",
       "Gender_Male                            -0.001360       -0.001561   \n",
       "Location_Houston                       -0.251548       -0.251469   \n",
       "Location_Los Angeles                    1.000000       -0.250563   \n",
       "Location_Miami                         -0.250563        1.000000   \n",
       "Location_New York                      -0.248857       -0.248779   \n",
       "\n",
       "                            Location_New York  \n",
       "Age                                 -0.003982  \n",
       "Subscription_Length_Months          -0.004630  \n",
       "Monthly_Bill                         0.002992  \n",
       "Total_Usage_GB                       0.002837  \n",
       "Churn                                0.005835  \n",
       "Gender_Male                         -0.002645  \n",
       "Location_Houston                    -0.249757  \n",
       "Location_Los Angeles                -0.248857  \n",
       "Location_Miami                      -0.248779  \n",
       "Location_New York                    1.000000  "
      ]
     },
     "execution_count": 19,
     "metadata": {},
     "output_type": "execute_result"
    }
   ],
   "source": [
    "data.corr()"
   ]
  },
  {
   "cell_type": "code",
   "execution_count": null,
   "id": "78d6a20e",
   "metadata": {},
   "outputs": [],
   "source": []
  },
  {
   "cell_type": "code",
   "execution_count": 20,
   "id": "e337b963",
   "metadata": {
    "scrolled": false
   },
   "outputs": [
    {
     "data": {
      "image/png": "[encoded data removed]",
      "text/plain": [
       "<Figure size 2000x2000 with 2 Axes>"
      ]
     },
     "metadata": {},
     "output_type": "display_data"
    }
   ],
   "source": [
    "heatmap = data.corr()\n",
    "plt.figure(figsize=(20,20))\n",
    "hm = sns.heatmap(heatmap, annot=True)"
   ]
  },
  {
   "cell_type": "code",
   "execution_count": 21,
   "id": "980916a9",
   "metadata": {},
   "outputs": [],
   "source": [
    "X = data.drop(['Churn'], axis=1)"
   ]
  },
  {
   "cell_type": "code",
   "execution_count": 22,
   "id": "cc6ef0f2",
   "metadata": {},
   "outputs": [
    {
     "data": {
      "text/html": [
       "<div>\n",
       "<style scoped>\n",
       "    .dataframe tbody tr th:only-of-type {\n",
       "        vertical-align: middle;\n",
       "    }\n",
       "\n",
       "    .dataframe tbody tr th {\n",
       "        vertical-align: top;\n",
       "    }\n",
       "\n",
       "    .dataframe thead th {\n",
       "        text-align: right;\n",
       "    }\n",
       "</style>\n",
       "<table border=\"1\" class=\"dataframe\">\n",
       "  <thead>\n",
       "    <tr style=\"text-align: right;\">\n",
       "      <th></th>\n",
       "      <th>Age</th>\n",
       "      <th>Subscription_Length_Months</th>\n",
       "      <th>Monthly_Bill</th>\n",
       "      <th>Total_Usage_GB</th>\n",
       "      <th>Gender_Male</th>\n",
       "      <th>Location_Houston</th>\n",
       "      <th>Location_Los Angeles</th>\n",
       "      <th>Location_Miami</th>\n",
       "      <th>Location_New York</th>\n",
       "    </tr>\n",
       "  </thead>\n",
       "  <tbody>\n",
       "    <tr>\n",
       "      <th>0</th>\n",
       "      <td>63</td>\n",
       "      <td>17</td>\n",
       "      <td>73.36</td>\n",
       "      <td>236</td>\n",
       "      <td>1</td>\n",
       "      <td>0</td>\n",
       "      <td>1</td>\n",
       "      <td>0</td>\n",
       "      <td>0</td>\n",
       "    </tr>\n",
       "    <tr>\n",
       "      <th>1</th>\n",
       "      <td>62</td>\n",
       "      <td>1</td>\n",
       "      <td>48.76</td>\n",
       "      <td>172</td>\n",
       "      <td>0</td>\n",
       "      <td>0</td>\n",
       "      <td>0</td>\n",
       "      <td>0</td>\n",
       "      <td>1</td>\n",
       "    </tr>\n",
       "    <tr>\n",
       "      <th>2</th>\n",
       "      <td>24</td>\n",
       "      <td>5</td>\n",
       "      <td>85.47</td>\n",
       "      <td>460</td>\n",
       "      <td>0</td>\n",
       "      <td>0</td>\n",
       "      <td>1</td>\n",
       "      <td>0</td>\n",
       "      <td>0</td>\n",
       "    </tr>\n",
       "    <tr>\n",
       "      <th>3</th>\n",
       "      <td>36</td>\n",
       "      <td>3</td>\n",
       "      <td>97.94</td>\n",
       "      <td>297</td>\n",
       "      <td>0</td>\n",
       "      <td>0</td>\n",
       "      <td>0</td>\n",
       "      <td>1</td>\n",
       "      <td>0</td>\n",
       "    </tr>\n",
       "    <tr>\n",
       "      <th>4</th>\n",
       "      <td>46</td>\n",
       "      <td>19</td>\n",
       "      <td>58.14</td>\n",
       "      <td>266</td>\n",
       "      <td>0</td>\n",
       "      <td>0</td>\n",
       "      <td>0</td>\n",
       "      <td>1</td>\n",
       "      <td>0</td>\n",
       "    </tr>\n",
       "  </tbody>\n",
       "</table>\n",
       "</div>"
      ],
      "text/plain": [
       "   Age  Subscription_Length_Months  Monthly_Bill  Total_Usage_GB  Gender_Male  \\\n",
       "0   63                          17         73.36             236            1   \n",
       "1   62                           1         48.76             172            0   \n",
       "2   24                           5         85.47             460            0   \n",
       "3   36                           3         97.94             297            0   \n",
       "4   46                          19         58.14             266            0   \n",
       "\n",
       "   Location_Houston  Location_Los Angeles  Location_Miami  Location_New York  \n",
       "0                 0                     1               0                  0  \n",
       "1                 0                     0               0                  1  \n",
       "2                 0                     1               0                  0  \n",
       "3                 0                     0               1                  0  \n",
       "4                 0                     0               1                  0  "
      ]
     },
     "execution_count": 22,
     "metadata": {},
     "output_type": "execute_result"
    }
   ],
   "source": [
    "X.head()"
   ]
  },
  {
   "cell_type": "code",
   "execution_count": 23,
   "id": "236b9a54",
   "metadata": {},
   "outputs": [],
   "source": [
    "y = data['Churn']"
   ]
  },
  {
   "cell_type": "code",
   "execution_count": 24,
   "id": "f35b9cf2",
   "metadata": {},
   "outputs": [
    {
     "data": {
      "text/plain": [
       "0        0\n",
       "1        0\n",
       "2        0\n",
       "3        1\n",
       "4        0\n",
       "        ..\n",
       "99995    1\n",
       "99996    0\n",
       "99997    1\n",
       "99998    1\n",
       "99999    1\n",
       "Name: Churn, Length: 100000, dtype: int64"
      ]
     },
     "execution_count": 24,
     "metadata": {},
     "output_type": "execute_result"
    }
   ],
   "source": [
    "y"
   ]
  },
  {
   "cell_type": "code",
   "execution_count": 25,
   "id": "3b0e201a",
   "metadata": {},
   "outputs": [],
   "source": [
    "#splitting dataset"
   ]
  },
  {
   "cell_type": "code",
   "execution_count": 26,
   "id": "ebed1754",
   "metadata": {},
   "outputs": [],
   "source": [
    "from sklearn.model_selection import train_test_split\n",
    "X_train,X_test,y_train,y_test = train_test_split(X,y,test_size = 0.3, random_state=10)"
   ]
  },
  {
   "cell_type": "code",
   "execution_count": 27,
   "id": "1f24ff8b",
   "metadata": {},
   "outputs": [
    {
     "data": {
      "text/html": [
       "<div>\n",
       "<style scoped>\n",
       "    .dataframe tbody tr th:only-of-type {\n",
       "        vertical-align: middle;\n",
       "    }\n",
       "\n",
       "    .dataframe tbody tr th {\n",
       "        vertical-align: top;\n",
       "    }\n",
       "\n",
       "    .dataframe thead th {\n",
       "        text-align: right;\n",
       "    }\n",
       "</style>\n",
       "<table border=\"1\" class=\"dataframe\">\n",
       "  <thead>\n",
       "    <tr style=\"text-align: right;\">\n",
       "      <th></th>\n",
       "      <th>Age</th>\n",
       "      <th>Subscription_Length_Months</th>\n",
       "      <th>Monthly_Bill</th>\n",
       "      <th>Total_Usage_GB</th>\n",
       "      <th>Gender_Male</th>\n",
       "      <th>Location_Houston</th>\n",
       "      <th>Location_Los Angeles</th>\n",
       "      <th>Location_Miami</th>\n",
       "      <th>Location_New York</th>\n",
       "    </tr>\n",
       "  </thead>\n",
       "  <tbody>\n",
       "    <tr>\n",
       "      <th>56115</th>\n",
       "      <td>68</td>\n",
       "      <td>19</td>\n",
       "      <td>97.67</td>\n",
       "      <td>334</td>\n",
       "      <td>1</td>\n",
       "      <td>1</td>\n",
       "      <td>0</td>\n",
       "      <td>0</td>\n",
       "      <td>0</td>\n",
       "    </tr>\n",
       "    <tr>\n",
       "      <th>26487</th>\n",
       "      <td>58</td>\n",
       "      <td>3</td>\n",
       "      <td>51.44</td>\n",
       "      <td>108</td>\n",
       "      <td>0</td>\n",
       "      <td>0</td>\n",
       "      <td>0</td>\n",
       "      <td>1</td>\n",
       "      <td>0</td>\n",
       "    </tr>\n",
       "    <tr>\n",
       "      <th>75775</th>\n",
       "      <td>67</td>\n",
       "      <td>2</td>\n",
       "      <td>99.15</td>\n",
       "      <td>185</td>\n",
       "      <td>0</td>\n",
       "      <td>0</td>\n",
       "      <td>0</td>\n",
       "      <td>0</td>\n",
       "      <td>1</td>\n",
       "    </tr>\n",
       "    <tr>\n",
       "      <th>79623</th>\n",
       "      <td>54</td>\n",
       "      <td>10</td>\n",
       "      <td>66.42</td>\n",
       "      <td>185</td>\n",
       "      <td>1</td>\n",
       "      <td>1</td>\n",
       "      <td>0</td>\n",
       "      <td>0</td>\n",
       "      <td>0</td>\n",
       "    </tr>\n",
       "    <tr>\n",
       "      <th>81009</th>\n",
       "      <td>50</td>\n",
       "      <td>7</td>\n",
       "      <td>82.39</td>\n",
       "      <td>352</td>\n",
       "      <td>0</td>\n",
       "      <td>0</td>\n",
       "      <td>0</td>\n",
       "      <td>0</td>\n",
       "      <td>0</td>\n",
       "    </tr>\n",
       "    <tr>\n",
       "      <th>...</th>\n",
       "      <td>...</td>\n",
       "      <td>...</td>\n",
       "      <td>...</td>\n",
       "      <td>...</td>\n",
       "      <td>...</td>\n",
       "      <td>...</td>\n",
       "      <td>...</td>\n",
       "      <td>...</td>\n",
       "      <td>...</td>\n",
       "    </tr>\n",
       "    <tr>\n",
       "      <th>9372</th>\n",
       "      <td>30</td>\n",
       "      <td>16</td>\n",
       "      <td>80.15</td>\n",
       "      <td>423</td>\n",
       "      <td>1</td>\n",
       "      <td>1</td>\n",
       "      <td>0</td>\n",
       "      <td>0</td>\n",
       "      <td>0</td>\n",
       "    </tr>\n",
       "    <tr>\n",
       "      <th>93553</th>\n",
       "      <td>23</td>\n",
       "      <td>23</td>\n",
       "      <td>45.67</td>\n",
       "      <td>52</td>\n",
       "      <td>0</td>\n",
       "      <td>0</td>\n",
       "      <td>0</td>\n",
       "      <td>1</td>\n",
       "      <td>0</td>\n",
       "    </tr>\n",
       "    <tr>\n",
       "      <th>50496</th>\n",
       "      <td>55</td>\n",
       "      <td>19</td>\n",
       "      <td>47.70</td>\n",
       "      <td>396</td>\n",
       "      <td>0</td>\n",
       "      <td>1</td>\n",
       "      <td>0</td>\n",
       "      <td>0</td>\n",
       "      <td>0</td>\n",
       "    </tr>\n",
       "    <tr>\n",
       "      <th>94735</th>\n",
       "      <td>18</td>\n",
       "      <td>11</td>\n",
       "      <td>96.69</td>\n",
       "      <td>435</td>\n",
       "      <td>1</td>\n",
       "      <td>0</td>\n",
       "      <td>0</td>\n",
       "      <td>1</td>\n",
       "      <td>0</td>\n",
       "    </tr>\n",
       "    <tr>\n",
       "      <th>83209</th>\n",
       "      <td>62</td>\n",
       "      <td>24</td>\n",
       "      <td>64.02</td>\n",
       "      <td>341</td>\n",
       "      <td>0</td>\n",
       "      <td>0</td>\n",
       "      <td>0</td>\n",
       "      <td>1</td>\n",
       "      <td>0</td>\n",
       "    </tr>\n",
       "  </tbody>\n",
       "</table>\n",
       "<p>70000 rows × 9 columns</p>\n",
       "</div>"
      ],
      "text/plain": [
       "       Age  Subscription_Length_Months  Monthly_Bill  Total_Usage_GB  \\\n",
       "56115   68                          19         97.67             334   \n",
       "26487   58                           3         51.44             108   \n",
       "75775   67                           2         99.15             185   \n",
       "79623   54                          10         66.42             185   \n",
       "81009   50                           7         82.39             352   \n",
       "...    ...                         ...           ...             ...   \n",
       "9372    30                          16         80.15             423   \n",
       "93553   23                          23         45.67              52   \n",
       "50496   55                          19         47.70             396   \n",
       "94735   18                          11         96.69             435   \n",
       "83209   62                          24         64.02             341   \n",
       "\n",
       "       Gender_Male  Location_Houston  Location_Los Angeles  Location_Miami  \\\n",
       "56115            1                 1                     0               0   \n",
       "26487            0                 0                     0               1   \n",
       "75775            0                 0                     0               0   \n",
       "79623            1                 1                     0               0   \n",
       "81009            0                 0                     0               0   \n",
       "...            ...               ...                   ...             ...   \n",
       "9372             1                 1                     0               0   \n",
       "93553            0                 0                     0               1   \n",
       "50496            0                 1                     0               0   \n",
       "94735            1                 0                     0               1   \n",
       "83209            0                 0                     0               1   \n",
       "\n",
       "       Location_New York  \n",
       "56115                  0  \n",
       "26487                  0  \n",
       "75775                  1  \n",
       "79623                  0  \n",
       "81009                  0  \n",
       "...                  ...  \n",
       "9372                   0  \n",
       "93553                  0  \n",
       "50496                  0  \n",
       "94735                  0  \n",
       "83209                  0  \n",
       "\n",
       "[70000 rows x 9 columns]"
      ]
     },
     "execution_count": 27,
     "metadata": {},
     "output_type": "execute_result"
    }
   ],
   "source": [
    "X_train"
   ]
  },
  {
   "cell_type": "code",
   "execution_count": 28,
   "id": "f0f5ae0b",
   "metadata": {},
   "outputs": [],
   "source": [
    "#feature scaling"
   ]
  },
  {
   "cell_type": "code",
   "execution_count": 29,
   "id": "e524e4b3",
   "metadata": {},
   "outputs": [],
   "source": [
    "from sklearn.preprocessing import StandardScaler\n",
    "sc = StandardScaler()\n",
    "X_train = sc.fit_transform(X_train)\n",
    "X_test = sc.transform(X_test)"
   ]
  },
  {
   "cell_type": "code",
   "execution_count": 30,
   "id": "3fdaa0e6",
   "metadata": {
    "scrolled": true
   },
   "outputs": [
    {
     "data": {
      "text/plain": [
       "array([[ 1.57273275,  0.94248842,  1.61551386, ..., -0.50109351,\n",
       "        -0.49785621, -0.49857102],\n",
       "       [ 0.91789752, -1.36568855, -0.67406533, ..., -0.50109351,\n",
       "         2.00861207, -0.49857102],\n",
       "       [ 1.50724923, -1.50994961,  1.6888121 , ..., -0.50109351,\n",
       "        -0.49785621,  2.00573231],\n",
       "       ...,\n",
       "       [ 0.72144695,  0.94248842, -0.85929194, ..., -0.50109351,\n",
       "        -0.49785621, -0.49857102],\n",
       "       [-1.70144342, -0.21160006,  1.56697855, ..., -0.50109351,\n",
       "         2.00861207, -0.49857102],\n",
       "       [ 1.17983161,  1.66379373, -0.05103037, ..., -0.50109351,\n",
       "         2.00861207, -0.49857102]])"
      ]
     },
     "execution_count": 30,
     "metadata": {},
     "output_type": "execute_result"
    }
   ],
   "source": [
    "X_train"
   ]
  },
  {
   "cell_type": "markdown",
   "id": "c507451f",
   "metadata": {},
   "source": [
    "# AdaBoost "
   ]
  },
  {
   "cell_type": "code",
   "execution_count": 31,
   "id": "7579f86d",
   "metadata": {},
   "outputs": [
    {
     "data": {
      "text/plain": [
       "AdaBoostClassifier()"
      ]
     },
     "execution_count": 31,
     "metadata": {},
     "output_type": "execute_result"
    }
   ],
   "source": [
    "ada = AdaBoostClassifier()\n",
    "ada.fit(X_train, y_train)"
   ]
  },
  {
   "cell_type": "code",
   "execution_count": 32,
   "id": "8cb11e86",
   "metadata": {},
   "outputs": [],
   "source": [
    "y_pred = ada.predict(X_test)"
   ]
  },
  {
   "cell_type": "code",
   "execution_count": 33,
   "id": "aa3f8979",
   "metadata": {},
   "outputs": [
    {
     "name": "stdout",
     "output_type": "stream",
     "text": [
      "              precision    recall  f1-score   support\n",
      "\n",
      "           0       0.50      0.56      0.53     15108\n",
      "           1       0.49      0.43      0.46     14892\n",
      "\n",
      "    accuracy                           0.50     30000\n",
      "   macro avg       0.50      0.50      0.50     30000\n",
      "weighted avg       0.50      0.50      0.50     30000\n",
      "\n"
     ]
    }
   ],
   "source": [
    "report=classification_report(y_test,y_pred)\n",
    "print(report)"
   ]
  },
  {
   "cell_type": "code",
   "execution_count": 34,
   "id": "6bdd6730",
   "metadata": {},
   "outputs": [
    {
     "name": "stdout",
     "output_type": "stream",
     "text": [
      "[[8531 6577]\n",
      " [8485 6407]]\n"
     ]
    }
   ],
   "source": [
    "cm=confusion_matrix(y_test,y_pred)\n",
    "print(cm)"
   ]
  },
  {
   "cell_type": "code",
   "execution_count": 35,
   "id": "7ee2ffb0",
   "metadata": {},
   "outputs": [],
   "source": [
    "# ## First we instantiate the models\n",
    "# ada = AdaBoostClassifier()\n",
    "# lin_svc = LinearSVC()\n",
    "# ridge = RidgeClassifier()\n",
    "# log_reg = LogisticRegression()\n",
    "\n",
    "# ## Now we plot the parameters where grid search might try to find the best match\n",
    "# parameters_ada = {'n_estimators':[10, 50, 250, 1000],\n",
    "#               'learning_rate':[0.01, 0.1]}\n",
    "\n",
    "# parameters_lin_svc = {'C':[1, 10, 100, 1000]}\n",
    "\n",
    "# parameters_ridge = {'alpha': [1, 0.1, 0.01, 0.001, 0.0001, 0] , \n",
    "#                     \"solver\": ['svd', 'cholesky', 'lsqr', 'sparse_cg', 'sag', 'saga']}\n",
    "\n",
    "# parameters_log_reg = {'penalty' : ['l1', 'l2', 'elasticnet'], \n",
    "#                       'multi_class': ['auto', 'ovr', 'multinomial']}\n",
    "\n",
    "# ## Now we set the grid search for each model\n",
    "# grid_ada = GridSearchCV(ada, parameters_ada, n_jobs=1, verbose=0)\n",
    "# grid_lin_svc = GridSearchCV(lin_svc, parameters_lin_svc, n_jobs=1, verbose=0)\n",
    "# grid_ridge = GridSearchCV(ridge, parameters_ridge, n_jobs=1, verbose=0)\n",
    "# grid_log_reg = GridSearchCV(log_reg, parameters_log_reg, n_jobs=1, verbose=0)\n",
    "\n",
    "# ## We should fit those parameters into our tests dfs\n",
    "# print('Running GridSearch for Adaboost...')\n",
    "# grid_ada.fit(X_train, y_train)\n",
    "# print('Running GridSearch for LinearSVC...')\n",
    "# grid_lin_svc.fit(X_train, y_train)\n",
    "# print('Running GridSearch for RidgeClassifier...')\n",
    "# grid_ridge.fit(X_train, y_train)\n",
    "# print('Running GridSearch for Logistic Regression...')\n",
    "# grid_log_reg.fit(X_train, y_train)\n",
    "\n",
    "# ## At last, we print the best parameters for each model\n",
    "# best_ada = grid_ada.best_params_\n",
    "# print('Best parameters for Adaboost:', best_ada)\n",
    "# best_svc = grid_lin_svc.best_params_\n",
    "# print('Best parameters for Linear SVC:', best_svc)\n",
    "# best_ridge = grid_ridge.best_params_\n",
    "# print('Best parameters for Ridge Classifier:', best_ridge)\n",
    "# best_log = grid_log_reg.best_params_\n",
    "# print('Best parameters for Logistic Regression:', best_log)\n",
    "\n",
    "# ## Now we run the best parameters for each model\n",
    "# ada_model = AdaBoostClassifier(n_estimators=best_ada['n_estimators'],\n",
    "#               learning_rate=best_ada['learning_rate'])\n",
    "# ada_model.fit(X_train, y_train)\n",
    "\n",
    "# svc_model = LinearSVC(C=best_svc['C'])\n",
    "# svc_model.fit(X_train, y_train)\n",
    "\n",
    "# ridge_model = RidgeClassifier(alpha=best_ridge['alpha'], solver=best_ridge['solver'])\n",
    "# ridge_model.fit(X_train, y_train)\n",
    "\n",
    "# log_model = LogisticRegression(penalty=best_log['penalty'], multi_class=best_log['multi_class'])\n",
    "# log_model.fit(X_train, y_train);"
   ]
  },
  {
   "cell_type": "code",
   "execution_count": null,
   "id": "b0cbb6cb",
   "metadata": {},
   "outputs": [],
   "source": []
  },
  {
   "cell_type": "code",
   "execution_count": 36,
   "id": "db9040ef",
   "metadata": {},
   "outputs": [],
   "source": [
    "# ## Predict all the models\n",
    "# ada_predict = ada_model.predict(X_test)\n",
    "# svc_predict = svc_model.predict(X_test)\n",
    "# ridge_predict = ridge_model.predict(X_test)\n",
    "# log_predict = log_model.predict(X_test)\n",
    "\n",
    "# ## Grab the best AUC Score\n",
    "# auc_score = {'Adaboost': roc_auc_score(y_test, ada_predict), \n",
    "#              'Linear SVC': roc_auc_score(y_test, svc_predict), \n",
    "#              'Ridge Classifier': roc_auc_score(y_test, ridge_predict), \n",
    "#              'Logistic Regression': roc_auc_score(y_test, log_predict)}\n",
    "\n",
    "# ## Obtain the highest value in the auc_score dictionary\n",
    "# best = max(auc_score.items(), key = lambda x: x[1])\n",
    "# print(f'The best performance model is {best[0]}, with an AUC Score of {best[1]}!')"
   ]
  },
  {
   "cell_type": "code",
   "execution_count": 37,
   "id": "bc766bf6",
   "metadata": {},
   "outputs": [],
   "source": [
    "# from sklearn.metrics import confusion_matrix, accuracy_score\n",
    "# cm = confusion_matrix(y_test, y_pred)\n",
    "# acc = accuracy_score(y_test, y_pred)"
   ]
  },
  {
   "cell_type": "markdown",
   "id": "65369c2b",
   "metadata": {},
   "source": [
    "# ANN"
   ]
  },
  {
   "cell_type": "code",
   "execution_count": 38,
   "id": "7faeb745",
   "metadata": {},
   "outputs": [],
   "source": [
    "# import tensorflow\n",
    "# from tensorflow import keras\n",
    "# from keras import Sequential\n",
    "# from keras.layers import Dense"
   ]
  },
  {
   "cell_type": "code",
   "execution_count": 39,
   "id": "19dd85e3",
   "metadata": {},
   "outputs": [],
   "source": [
    "# model = keras.Sequential()\n",
    "# #input layer and first hidden layer\n",
    "# model.add(Dense(activation='relu', input_dim = 9, units = 6, kernel_initializer='uniform'))\n",
    "# #hidden layer\n",
    "# model.add(Dense(activation='relu', units = 6, kernel_initializer='uniform'))\n",
    "# #output layer\n",
    "# model.add(Dense(activation='sigmoid', units = 1, kernel_initializer='uniform'))\n"
   ]
  },
  {
   "cell_type": "code",
   "execution_count": 40,
   "id": "b7b187c3",
   "metadata": {},
   "outputs": [],
   "source": [
    "# model.summary()"
   ]
  },
  {
   "cell_type": "code",
   "execution_count": 41,
   "id": "eb00a3df",
   "metadata": {},
   "outputs": [],
   "source": [
    "# model.compile(loss='binary_crossentropy',optimizer='adam', metrics=['accuracy'])"
   ]
  },
  {
   "cell_type": "code",
   "execution_count": 42,
   "id": "495b202f",
   "metadata": {},
   "outputs": [],
   "source": [
    "# history = model.fit(X_train,y_train,  epochs=1)"
   ]
  },
  {
   "cell_type": "code",
   "execution_count": 43,
   "id": "ee7a8bbf",
   "metadata": {},
   "outputs": [],
   "source": [
    "# y_pred = model.predict(X_test)\n",
    "# y_pred = (y_pred>0.5)"
   ]
  },
  {
   "cell_type": "code",
   "execution_count": null,
   "id": "c78b7792",
   "metadata": {},
   "outputs": [],
   "source": []
  },
  {
   "cell_type": "code",
   "execution_count": 44,
   "id": "91783fc8",
   "metadata": {},
   "outputs": [],
   "source": [
    "# from sklearn.metrics import confusion_matrix, accuracy_score\n",
    "# cm = confusion_matrix(y_test, y_pred)\n",
    "# acc = accuracy_score(y_test, y_pred)\n",
    "# print(cm)"
   ]
  },
  {
   "cell_type": "code",
   "execution_count": 45,
   "id": "d517c449",
   "metadata": {
    "scrolled": false
   },
   "outputs": [],
   "source": [
    "# from sklearn.metrics import confusion_matrix , classification_report\n",
    "# print(classification_report(y_test, y_pred))"
   ]
  },
  {
   "cell_type": "markdown",
   "id": "ffd18a64",
   "metadata": {},
   "source": [
    "# Random Forest"
   ]
  },
  {
   "cell_type": "code",
   "execution_count": 46,
   "id": "64945a5c",
   "metadata": {},
   "outputs": [],
   "source": [
    "# from sklearn.ensemble import RandomForestClassifier\n",
    "# from sklearn.model_selection import RandomizedSearchCV\n",
    "\n"
   ]
  },
  {
   "cell_type": "code",
   "execution_count": 47,
   "id": "c275dd9c",
   "metadata": {},
   "outputs": [],
   "source": [
    "# parameters_clf = {'n_estimators':[10, 50, 250, 1000],\n",
    "#               'max_features':['auto','sqrt'],\n",
    "#                  'max_depth':[5,10,20,30],\n",
    "#                  'min_samples_split':[2,5,10,30,60],\n",
    "#                  'min_samples_leaf':[1,2,5,10]}\n",
    "# print(parameters_clf)"
   ]
  },
  {
   "cell_type": "code",
   "execution_count": 48,
   "id": "ba32d4b4",
   "metadata": {},
   "outputs": [],
   "source": [
    "# clf = RandomForestClassifier()"
   ]
  },
  {
   "cell_type": "code",
   "execution_count": 49,
   "id": "16604b27",
   "metadata": {},
   "outputs": [],
   "source": [
    "# clf_random = RandomizedSearchCV(estimator = clf, param_distributions = parameters_clf, scoring = \"neg_mean_squared_error\", n_iter = 10, cv= 5, verbose = 2, n_jobs=1)"
   ]
  },
  {
   "cell_type": "code",
   "execution_count": 50,
   "id": "a4993712",
   "metadata": {},
   "outputs": [],
   "source": [
    "# clf_random.fit(X_train, y_train)"
   ]
  },
  {
   "cell_type": "code",
   "execution_count": 51,
   "id": "28d069ee",
   "metadata": {},
   "outputs": [],
   "source": [
    "# y_pred = clf_random.predict(X_test)"
   ]
  },
  {
   "cell_type": "code",
   "execution_count": 52,
   "id": "4155ca12",
   "metadata": {},
   "outputs": [],
   "source": [
    "# from sklearn.metrics import confusion_matrix , classification_report\n",
    "\n",
    "# print(classification_report(y_test, y_pred))"
   ]
  },
  {
   "cell_type": "code",
   "execution_count": 53,
   "id": "f9b94706",
   "metadata": {
    "scrolled": true
   },
   "outputs": [],
   "source": [
    "# from sklearn.metrics import confusion_matrix, accuracy_score\n",
    "# cm = confusion_matrix(y_test, y_pred)\n",
    "# acc = accuracy_score(y_test, y_pred)\n",
    "# print(cm)\n",
    "# print(acc)"
   ]
  },
  {
   "cell_type": "markdown",
   "id": "cb44ba57",
   "metadata": {},
   "source": [
    "# Logistic Regression"
   ]
  },
  {
   "cell_type": "code",
   "execution_count": 54,
   "id": "ecbfaafc",
   "metadata": {},
   "outputs": [],
   "source": [
    "# from sklearn.linear_model import LogisticRegression\n",
    "# regressor=LogisticRegression(random_state=100)\n",
    "# regressor.fit(X_train,y_train)"
   ]
  },
  {
   "cell_type": "code",
   "execution_count": 55,
   "id": "72dcf03c",
   "metadata": {},
   "outputs": [],
   "source": [
    "# y_pred=regressor.predict(X_test)"
   ]
  },
  {
   "cell_type": "code",
   "execution_count": 56,
   "id": "7f0eec6e",
   "metadata": {},
   "outputs": [],
   "source": [
    "# regressor.score(X_test,y_test)"
   ]
  },
  {
   "cell_type": "code",
   "execution_count": 57,
   "id": "2c45b4ad",
   "metadata": {},
   "outputs": [],
   "source": [
    "# report=classification_report(y_test,y_pred)\n",
    "# print(report)"
   ]
  },
  {
   "cell_type": "code",
   "execution_count": 58,
   "id": "47b9f86e",
   "metadata": {},
   "outputs": [],
   "source": [
    "# cm=confusion_matrix(y_test,y_pred)\n",
    "# print(cm)"
   ]
  },
  {
   "cell_type": "markdown",
   "id": "bc7ef4d6",
   "metadata": {},
   "source": [
    "# Naive Bayes"
   ]
  },
  {
   "cell_type": "code",
   "execution_count": 59,
   "id": "509339b4",
   "metadata": {},
   "outputs": [],
   "source": [
    "# from sklearn.naive_bayes import GaussianNB\n",
    "# nb = GaussianNB()\n",
    "# nb.fit(X_train, y_train)"
   ]
  },
  {
   "cell_type": "code",
   "execution_count": 60,
   "id": "06627492",
   "metadata": {},
   "outputs": [],
   "source": [
    "# y_pred=nb.predict(X_test)"
   ]
  },
  {
   "cell_type": "code",
   "execution_count": 61,
   "id": "745c013a",
   "metadata": {},
   "outputs": [],
   "source": [
    "# nb.score(X_test,y_test)"
   ]
  },
  {
   "cell_type": "code",
   "execution_count": 62,
   "id": "b72b6813",
   "metadata": {},
   "outputs": [],
   "source": [
    "# report=classification_report(y_test,y_pred)\n",
    "# print(report)"
   ]
  },
  {
   "cell_type": "code",
   "execution_count": 63,
   "id": "12b760c4",
   "metadata": {},
   "outputs": [],
   "source": [
    "# cm=confusion_matrix(y_test,y_pred)\n",
    "# print(cm)"
   ]
  },
  {
   "cell_type": "markdown",
   "id": "0ff6009c",
   "metadata": {},
   "source": [
    "# Decision tree"
   ]
  },
  {
   "cell_type": "code",
   "execution_count": 64,
   "id": "f4672675",
   "metadata": {},
   "outputs": [],
   "source": [
    "# from sklearn.tree import DecisionTreeClassifier\n",
    "# d_tree = DecisionTreeClassifier()\n",
    "# d_tree.fit(X_train,y_train)"
   ]
  },
  {
   "cell_type": "code",
   "execution_count": 65,
   "id": "ef766b10",
   "metadata": {},
   "outputs": [],
   "source": [
    "# y_pred = d_tree.predict(X_test)"
   ]
  },
  {
   "cell_type": "code",
   "execution_count": 66,
   "id": "26e16395",
   "metadata": {},
   "outputs": [],
   "source": [
    "# d_tree.score(X_test,y_test)"
   ]
  },
  {
   "cell_type": "code",
   "execution_count": 67,
   "id": "0282e278",
   "metadata": {},
   "outputs": [],
   "source": [
    "# report=classification_report(y_test,y_pred)\n",
    "# print(report)"
   ]
  },
  {
   "cell_type": "code",
   "execution_count": 68,
   "id": "d39cfc1d",
   "metadata": {},
   "outputs": [],
   "source": [
    "# cm=confusion_matrix(y_test,y_pred)\n",
    "# print(cm)"
   ]
  },
  {
   "cell_type": "code",
   "execution_count": 69,
   "id": "ebdd95b2",
   "metadata": {},
   "outputs": [],
   "source": [
    "import pickle\n",
    "\n",
    "file = open('customer_churn_prediction.pkl', 'wb')\n",
    "\n",
    "pickle.dump(ada,file)"
   ]
  },
  {
   "cell_type": "code",
   "execution_count": null,
   "id": "745763ae",
   "metadata": {},
   "outputs": [],
   "source": []
  }
 ],
 "metadata": {
  "kernelspec": {
   "display_name": "Python 3 (ipykernel)",
   "language": "python",
   "name": "python3"
  },
  "language_info": {
   "codemirror_mode": {
    "name": "ipython",
    "version": 3
   },
   "file_extension": ".py",
   "mimetype": "text/x-python",
   "name": "python",
   "nbconvert_exporter": "python",
   "pygments_lexer": "ipython3",
   "version": "3.9.13"
  }
 },
 "nbformat": 4,
 "nbformat_minor": 5
}
